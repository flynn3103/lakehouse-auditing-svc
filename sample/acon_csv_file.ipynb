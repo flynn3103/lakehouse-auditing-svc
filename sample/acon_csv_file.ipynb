{
 "cells": [
  {
   "cell_type": "code",
   "execution_count": 3,
   "metadata": {},
   "outputs": [],
   "source": [
    "import sys\n",
    "import os\n",
    "\n",
    "# Add the parent directory of lakehouse_engine to sys.path\n",
    "sys.path.append(os.path.abspath(os.path.join(os.getcwd(), \"../\")))\n",
    "\n",
    "\n",
    "# You need to import the Load Data algorithm from the Lakehouse Engine, so that you can perform Data Loads.\n",
    "from lakehouse_engine.engine import load_data\n"
   ]
  },
  {
   "cell_type": "code",
   "execution_count": 1,
   "metadata": {},
   "outputs": [],
   "source": [
    "acon = {\n",
    "    \"input_specs\": [\n",
    "      {\n",
    "        \"spec_id\": \"sales_source\",\n",
    "        \"read_type\": \"batch\",\n",
    "        \"data_format\": \"csv\",\n",
    "        \"options\": {\n",
    "          \"header\": True,\n",
    "          \"delimiter\": \"|\",\n",
    "          \"inferSchema\": True\n",
    "        },\n",
    "        \"location\": \"file:///app/tests/lakehouse/in/feature/full_load/full_overwrite/data\"\n",
    "      }\n",
    "    ],\n",
    "    \"output_specs\": [\n",
    "      {\n",
    "        \"spec_id\": \"sales_bronze\",\n",
    "        \"input_id\": \"sales_source\",\n",
    "        \"write_type\": \"overwrite\",\n",
    "        \"data_format\": \"csv\",\n",
    "        \"partitions\": [\n",
    "          \"date\",\n",
    "          \"customer\"\n",
    "        ],\n",
    "        \"location\": \"file:///app/tests/lakehouse/out/feature/full_load/full_overwrite/data\"\n",
    "      }\n",
    "    ]\n",
    "  }"
   ]
  },
  {
   "cell_type": "code",
   "execution_count": 4,
   "metadata": {},
   "outputs": [
    {
     "name": "stderr",
     "output_type": "stream",
     "text": [
      "2025-01-02 08:23:25,860 — lakehouse_engine.core.exec_env — INFO — Using the following default configs you may want to override them for your job: {'spark.databricks.delta.optimizeWrite.enabled': True, 'spark.sql.adaptive.enabled': True, 'spark.databricks.delta.merge.enableLowShuffle': True}\n",
      "2025-01-02 08:23:25,864 — lakehouse_engine.core.exec_env — INFO — Final config is: {'spark.databricks.delta.optimizeWrite.enabled': True, 'spark.sql.adaptive.enabled': True, 'spark.databricks.delta.merge.enableLowShuffle': True}\n",
      "2025-01-02 08:23:25,865 — lakehouse_engine.core.exec_env — INFO — Creating a new Spark Session\n",
      "/home/appuser/.local/lib/python3.11/site-packages/pyspark/bin/load-spark-env.sh: line 68: ps: command not found\n",
      "Setting default log level to \"WARN\".\n",
      "To adjust logging level use sc.setLogLevel(newLevel). For SparkR, use setLogLevel(newLevel).\n",
      "25/01/02 08:23:29 WARN NativeCodeLoader: Unable to load native-hadoop library for your platform... using builtin-java classes where applicable\n",
      "2025-01-02 08:23:33,647 — lakehouse_engine.utils.acon_utils — INFO — Read Algorithm Configuration: {'input_specs': [{'spec_id': 'sales_source', 'read_type': 'batch', 'data_format': 'csv', 'options': {'header': True, 'delimiter': '|', 'inferSchema': True}, 'location': 'file:///app/tests/lakehouse/in/feature/full_load/full_overwrite/data'}], 'output_specs': [{'spec_id': 'sales_bronze', 'input_id': 'sales_source', 'write_type': 'overwrite', 'data_format': 'csv', 'partitions': ['date', 'customer'], 'location': 'file:///app/tests/lakehouse/out/feature/full_load/full_overwrite/data'}]}\n",
      "2025-01-02 08:23:33,650 — DataLoader — INFO — Starting read stage...\n",
      "2025-01-02 08:23:33,651 — DataLoader — INFO — Found input specification: InputSpec(spec_id='sales_source', read_type='batch', data_format='csv', location='file:///app/tests/lakehouse/in/feature/full_load/full_overwrite/data', schema=None, options={'header': True, 'delimiter': '|', 'inferSchema': True}, schema_path=None)\n",
      "2025-01-02 08:23:33,663 — lakehouse_engine.utils.schema_utils — INFO — No schema was provided... skipping enforce schema\n",
      "2025-01-02 08:23:41,590 — DataLoader — INFO — Starting write stage...           \n",
      "2025-01-02 08:23:41,593 — DataLoader — INFO — Found output specification: OutputSpec(spec_id='sales_bronze', input_id='sales_source', write_type='overwrite', data_format='csv', db_table=None, location='file:///app/tests/lakehouse/out/feature/full_load/full_overwrite/data', partitions=['date', 'customer'], options=None)\n"
     ]
    },
    {
     "name": "stdout",
     "output_type": "stream",
     "text": [
      "OrderedDict([('sales_source', DataFrame[salesorder: int, item: int, date: int, customer: string, article: string, amount: int])])\n"
     ]
    },
    {
     "name": "stderr",
     "output_type": "stream",
     "text": [
      "2025-01-02 08:23:43,228 — DataLoader — INFO — Execution of the algorithm has finished!\n"
     ]
    },
    {
     "data": {
      "text/plain": [
       "OrderedDict([('sales_bronze',\n",
       "              DataFrame[salesorder: int, item: int, date: int, customer: string, article: string, amount: int])])"
      ]
     },
     "execution_count": 4,
     "metadata": {},
     "output_type": "execute_result"
    }
   ],
   "source": [
    "\n",
    "# Finally, you just need to run the Load Data algorithm with the ACON that you have just defined.\n",
    "load_data(acon=acon)"
   ]
  }
 ],
 "metadata": {
  "kernelspec": {
   "display_name": "Python 3",
   "language": "python",
   "name": "python3"
  },
  "language_info": {
   "codemirror_mode": {
    "name": "ipython",
    "version": 3
   },
   "file_extension": ".py",
   "mimetype": "text/x-python",
   "name": "python",
   "nbconvert_exporter": "python",
   "pygments_lexer": "ipython3",
   "version": "3.11.11"
  }
 },
 "nbformat": 4,
 "nbformat_minor": 2
}
